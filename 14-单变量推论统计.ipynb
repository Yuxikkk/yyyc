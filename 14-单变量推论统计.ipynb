{
 "cells": [
  {
   "cell_type": "code",
   "execution_count": 1,
   "metadata": {},
   "outputs": [
    {
     "name": "stdout",
     "output_type": "stream",
     "text": [
      "均值： 7.20\n",
      "均值在置信水平0.95下的置信区间为： (7.171337577138237, 7.2214184794700635)\n"
     ]
    }
   ],
   "source": [
    "import pandas as pd\n",
    "from scipy import stats\n",
    "# 打开数据文件\n",
    "file_path = R\"movie_data_cleaned.csv\"\n",
    "df_movies = pd.read_csv(file_path)\n",
    "# 计算均值和标准误差\n",
    "mean = df_movies['average'].mean()\n",
    "std_error = stats.sem(df_movies['average'])\n",
    "# 设定置信水平\n",
    "confidence_level = 0.95\n",
    "# 设定自由度\n",
    "自由度 = len(df_movies['average']) - 1\n",
    "# 计算置信区间\n",
    "confidence_interval = stats.t.interval(confidence_level, 自由度, loc=mean, scale=std_error)\n",
    "# 输出结果\n",
    "print(F\"均值：{mean: .2f}\")\n",
    "print(F\"均值在置信水平{confidence_level}下的置信区间为：\", confidence_interval)"
   ]
  },
  {
   "cell_type": "code",
   "execution_count": 2,
   "metadata": {},
   "outputs": [
    {
     "name": "stdout",
     "output_type": "stream",
     "text": [
      "均值： 7.20\n",
      "均值在置信水平0.95下的置信区间为： (7.171337577138237, 7.2214184794700635)\n"
     ]
    }
   ],
   "source": [
    "#运行自定义函数，执行单个变量均值的区间估计推论统计\n",
    "import mytools\n",
    "# import pandas as pd\n",
    "# from scipy import stats\n",
    "def interval_estimation(data, confidence_level):  \n",
    "    # 计算均值和标准误差  \n",
    "    mean = data.mean()  \n",
    "    std_error = stats.sem(data)  \n",
    "    # 设定自由度  \n",
    "    自由度 = len(data) - 1  \n",
    "    # 计算置信区间  \n",
    "    confidence_interval = stats.t.interval(confidence_level, 自由度, loc=mean, scale=std_error)  \n",
    "    # 返回置信区间结果  \n",
    "    return confidence_interval  \n",
    "  \n",
    "# 打开数据文件  \n",
    "file_path = R\"movie_data_cleaned.csv\"  \n",
    "df_movies = pd.read_csv(file_path)  \n",
    "  \n",
    "# 提取需要进行区间估计的变量数据  \n",
    "data = df_movies['average']  \n",
    "  \n",
    "# 设置置信水平为95%  \n",
    "confidence_level = 0.95  \n",
    "  \n",
    "# 运行自定义函数，获取置信区间结果  \n",
    "result = interval_estimation(data, confidence_level)  \n",
    "  \n",
    "# 输出结果  \n",
    "print(F\"均值：{data.mean(): .2f}\")  \n",
    "print(F\"均值在置信水平{confidence_level}下的置信区间为：\", result)"
   ]
  },
  {
   "cell_type": "code",
   "execution_count": 3,
   "metadata": {},
   "outputs": [],
   "source": [
    "import pandas as pd\n",
    "豆瓣电影数据=pd.read_csv(R'movie_data_cleaned.csv')\n",
    "confidence_level='language'"
   ]
  },
  {
   "cell_type": "code",
   "execution_count": 4,
   "metadata": {},
   "outputs": [
    {
     "name": "stdout",
     "output_type": "stream",
     "text": [
      "均值： 7.20\n",
      "均值在置信水平0.95下的置信区间为： (7.171337577138237, 7.2214184794700635)\n"
     ]
    }
   ],
   "source": [
    "import mytools\n",
    "mytools.单变量参数估计(豆瓣电影数据,confidence_level)"
   ]
  },
  {
   "cell_type": "code",
   "execution_count": 5,
   "metadata": {},
   "outputs": [],
   "source": [
    "#运行自定义函数，执行单个变量均值的区间估计推论统计\n",
    "import mytools"
   ]
  },
  {
   "cell_type": "code",
   "execution_count": 6,
   "metadata": {},
   "outputs": [
    {
     "ename": "KeyError",
     "evalue": "'变量名'",
     "output_type": "error",
     "traceback": [
      "\u001b[1;31m---------------------------------------------------------------------------\u001b[0m",
      "\u001b[1;31mKeyError\u001b[0m                                  Traceback (most recent call last)",
      "File \u001b[1;32me:\\Python环境搭建安装包\\工程文件\\lib\\site-packages\\pandas\\core\\indexes\\base.py:3653\u001b[0m, in \u001b[0;36mIndex.get_loc\u001b[1;34m(self, key)\u001b[0m\n\u001b[0;32m   3652\u001b[0m \u001b[39mtry\u001b[39;00m:\n\u001b[1;32m-> 3653\u001b[0m     \u001b[39mreturn\u001b[39;00m \u001b[39mself\u001b[39;49m\u001b[39m.\u001b[39;49m_engine\u001b[39m.\u001b[39;49mget_loc(casted_key)\n\u001b[0;32m   3654\u001b[0m \u001b[39mexcept\u001b[39;00m \u001b[39mKeyError\u001b[39;00m \u001b[39mas\u001b[39;00m err:\n",
      "File \u001b[1;32me:\\Python环境搭建安装包\\工程文件\\lib\\site-packages\\pandas\\_libs\\index.pyx:147\u001b[0m, in \u001b[0;36mpandas._libs.index.IndexEngine.get_loc\u001b[1;34m()\u001b[0m\n",
      "File \u001b[1;32me:\\Python环境搭建安装包\\工程文件\\lib\\site-packages\\pandas\\_libs\\index.pyx:176\u001b[0m, in \u001b[0;36mpandas._libs.index.IndexEngine.get_loc\u001b[1;34m()\u001b[0m\n",
      "File \u001b[1;32mpandas\\_libs\\hashtable_class_helper.pxi:7080\u001b[0m, in \u001b[0;36mpandas._libs.hashtable.PyObjectHashTable.get_item\u001b[1;34m()\u001b[0m\n",
      "File \u001b[1;32mpandas\\_libs\\hashtable_class_helper.pxi:7088\u001b[0m, in \u001b[0;36mpandas._libs.hashtable.PyObjectHashTable.get_item\u001b[1;34m()\u001b[0m\n",
      "\u001b[1;31mKeyError\u001b[0m: '变量名'",
      "\nThe above exception was the direct cause of the following exception:\n",
      "\u001b[1;31mKeyError\u001b[0m                                  Traceback (most recent call last)",
      "Cell \u001b[1;32mIn[6], line 1\u001b[0m\n\u001b[1;32m----> 1\u001b[0m \u001b[43mmytools\u001b[49m\u001b[38;5;241;43m.\u001b[39;49m\u001b[43m计算单变量均值的置信区间\u001b[49m\u001b[43m(\u001b[49m\u001b[38;5;124;43mR\u001b[39;49m\u001b[38;5;124;43m'\u001b[39;49m\u001b[38;5;124;43m600519.csv\u001b[39;49m\u001b[38;5;124;43m'\u001b[39;49m\u001b[43m,\u001b[49m\u001b[38;5;124;43m'\u001b[39;49m\u001b[38;5;124;43mopen\u001b[39;49m\u001b[38;5;124;43m'\u001b[39;49m\u001b[43m)\u001b[49m\n\u001b[0;32m      2\u001b[0m mytools\u001b[38;5;241m.\u001b[39m计算单变量均值的置信区间(\u001b[38;5;124mR\u001b[39m\u001b[38;5;124m'\u001b[39m\u001b[38;5;124m600519.csv\u001b[39m\u001b[38;5;124m'\u001b[39m,\u001b[38;5;124m'\u001b[39m\u001b[38;5;124mvolume\u001b[39m\u001b[38;5;124m'\u001b[39m,置信水平\u001b[38;5;241m=\u001b[39m\u001b[38;5;241m0.99\u001b[39m)\n",
      "File \u001b[1;32mc:\\Users\\Administrator\\Desktop\\yyyc\\mytools.py:18\u001b[0m, in \u001b[0;36m计算单变量均值的置信区间\u001b[1;34m(数据表路径及文件名, 变量名, 置信水平)\u001b[0m\n\u001b[0;32m     16\u001b[0m df \u001b[39m=\u001b[39m pd\u001b[39m.\u001b[39mread_csv(file_path)\n\u001b[0;32m     17\u001b[0m \u001b[39m# 计算均值和标准误差\u001b[39;00m\n\u001b[1;32m---> 18\u001b[0m mean \u001b[39m=\u001b[39m df[\u001b[39m'\u001b[39;49m\u001b[39m变量名\u001b[39;49m\u001b[39m'\u001b[39;49m]\u001b[39m.\u001b[39mmean()\n\u001b[0;32m     19\u001b[0m std_error \u001b[39m=\u001b[39m stats\u001b[39m.\u001b[39msem(df[\u001b[39m'\u001b[39m\u001b[39m变量名\u001b[39m\u001b[39m'\u001b[39m])\n\u001b[0;32m     20\u001b[0m \u001b[39m# 设定置信水平\u001b[39;00m\n",
      "File \u001b[1;32me:\\Python环境搭建安装包\\工程文件\\lib\\site-packages\\pandas\\core\\frame.py:3761\u001b[0m, in \u001b[0;36mDataFrame.__getitem__\u001b[1;34m(self, key)\u001b[0m\n\u001b[0;32m   3759\u001b[0m \u001b[39mif\u001b[39;00m \u001b[39mself\u001b[39m\u001b[39m.\u001b[39mcolumns\u001b[39m.\u001b[39mnlevels \u001b[39m>\u001b[39m \u001b[39m1\u001b[39m:\n\u001b[0;32m   3760\u001b[0m     \u001b[39mreturn\u001b[39;00m \u001b[39mself\u001b[39m\u001b[39m.\u001b[39m_getitem_multilevel(key)\n\u001b[1;32m-> 3761\u001b[0m indexer \u001b[39m=\u001b[39m \u001b[39mself\u001b[39;49m\u001b[39m.\u001b[39;49mcolumns\u001b[39m.\u001b[39;49mget_loc(key)\n\u001b[0;32m   3762\u001b[0m \u001b[39mif\u001b[39;00m is_integer(indexer):\n\u001b[0;32m   3763\u001b[0m     indexer \u001b[39m=\u001b[39m [indexer]\n",
      "File \u001b[1;32me:\\Python环境搭建安装包\\工程文件\\lib\\site-packages\\pandas\\core\\indexes\\base.py:3655\u001b[0m, in \u001b[0;36mIndex.get_loc\u001b[1;34m(self, key)\u001b[0m\n\u001b[0;32m   3653\u001b[0m     \u001b[39mreturn\u001b[39;00m \u001b[39mself\u001b[39m\u001b[39m.\u001b[39m_engine\u001b[39m.\u001b[39mget_loc(casted_key)\n\u001b[0;32m   3654\u001b[0m \u001b[39mexcept\u001b[39;00m \u001b[39mKeyError\u001b[39;00m \u001b[39mas\u001b[39;00m err:\n\u001b[1;32m-> 3655\u001b[0m     \u001b[39mraise\u001b[39;00m \u001b[39mKeyError\u001b[39;00m(key) \u001b[39mfrom\u001b[39;00m \u001b[39merr\u001b[39;00m\n\u001b[0;32m   3656\u001b[0m \u001b[39mexcept\u001b[39;00m \u001b[39mTypeError\u001b[39;00m:\n\u001b[0;32m   3657\u001b[0m     \u001b[39m# If we have a listlike key, _check_indexing_error will raise\u001b[39;00m\n\u001b[0;32m   3658\u001b[0m     \u001b[39m#  InvalidIndexError. Otherwise we fall through and re-raise\u001b[39;00m\n\u001b[0;32m   3659\u001b[0m     \u001b[39m#  the TypeError.\u001b[39;00m\n\u001b[0;32m   3660\u001b[0m     \u001b[39mself\u001b[39m\u001b[39m.\u001b[39m_check_indexing_error(key)\n",
      "\u001b[1;31mKeyError\u001b[0m: '变量名'"
     ]
    }
   ],
   "source": [
    "mytools.计算单变量均值的置信区间(R'600519.csv','open')\n",
    "mytools.计算单变量均值的置信区间(R'600519.csv','volume',置信水平=0.99)"
   ]
  }
 ],
 "metadata": {
  "kernelspec": {
   "display_name": "Python 3.8.10 64-bit",
   "language": "python",
   "name": "python3"
  },
  "language_info": {
   "codemirror_mode": {
    "name": "ipython",
    "version": 3
   },
   "file_extension": ".py",
   "mimetype": "text/x-python",
   "name": "python",
   "nbconvert_exporter": "python",
   "pygments_lexer": "ipython3",
   "version": "3.8.10"
  },
  "orig_nbformat": 4,
  "vscode": {
   "interpreter": {
    "hash": "67ce17e1b6374497c06444cecdf32d7b7e19b45a9a3e89d21f68883cc09eee71"
   }
  }
 },
 "nbformat": 4,
 "nbformat_minor": 2
}

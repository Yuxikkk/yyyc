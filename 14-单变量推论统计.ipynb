{
 "cells": [
  {
   "cell_type": "code",
   "execution_count": 1,
   "metadata": {},
   "outputs": [
    {
     "name": "stdout",
     "output_type": "stream",
     "text": [
      "均值： 7.20\n",
      "均值在置信水平0.95下的置信区间为： (7.171337577138237, 7.2214184794700635)\n"
     ]
    }
   ],
   "source": [
    "import pandas as pd\n",
    "from scipy import stats\n",
    "# 打开数据文件\n",
    "file_path = R\"movie_data_cleaned.csv\"\n",
    "df_movies = pd.read_csv(file_path)\n",
    "# 计算均值和标准误差\n",
    "mean = df_movies['average'].mean()\n",
    "std_error = stats.sem(df_movies['average'])\n",
    "# 设定置信水平\n",
    "confidence_level = 0.95\n",
    "# 设定自由度\n",
    "自由度 = len(df_movies['average']) - 1\n",
    "# 计算置信区间\n",
    "confidence_interval = stats.t.interval(confidence_level, 自由度, loc=mean, scale=std_error)\n",
    "# 输出结果\n",
    "print(F\"均值：{mean: .2f}\")\n",
    "print(F\"均值在置信水平{confidence_level}下的置信区间为：\", confidence_interval)"
   ]
  },
  {
   "cell_type": "code",
   "execution_count": 2,
   "metadata": {},
   "outputs": [
    {
     "name": "stdout",
     "output_type": "stream",
     "text": [
      "均值： 7.20\n",
      "均值在置信水平0.95下的置信区间为： (7.171337577138237, 7.2214184794700635)\n"
     ]
    }
   ],
   "source": [
    "#运行自定义函数，执行单个变量均值的区间估计推论统计\n",
    "import mytools\n",
    "# import pandas as pd\n",
    "# from scipy import stats\n",
    "def interval_estimation(data, confidence_level):  \n",
    "    # 计算均值和标准误差  \n",
    "    mean = data.mean()  \n",
    "    std_error = stats.sem(data)  \n",
    "    # 设定自由度  \n",
    "    自由度 = len(data) - 1  \n",
    "    # 计算置信区间  \n",
    "    confidence_interval = stats.t.interval(confidence_level, 自由度, loc=mean, scale=std_error)  \n",
    "    # 返回置信区间结果  \n",
    "    return confidence_interval  \n",
    "  \n",
    "# 打开数据文件  \n",
    "file_path = R\"movie_data_cleaned.csv\"  \n",
    "df_movies = pd.read_csv(file_path)  \n",
    "  \n",
    "# 提取需要进行区间估计的变量数据  \n",
    "data = df_movies['average']  \n",
    "  \n",
    "# 设置置信水平为95%  \n",
    "confidence_level = 0.95  \n",
    "  \n",
    "# 运行自定义函数，获取置信区间结果  \n",
    "result = interval_estimation(data, confidence_level)  \n",
    "  \n",
    "# 输出结果  \n",
    "print(F\"均值：{data.mean(): .2f}\")  \n",
    "print(F\"均值在置信水平{confidence_level}下的置信区间为：\", result)"
   ]
  },
  {
   "cell_type": "code",
   "execution_count": 3,
   "metadata": {},
   "outputs": [],
   "source": [
    "import pandas as pd\n",
    "豆瓣电影数据=pd.read_csv(R'movie_data_cleaned.csv')\n",
    "confidence_level='language'"
   ]
  },
  {
   "cell_type": "code",
   "execution_count": 4,
   "metadata": {},
   "outputs": [
    {
     "name": "stdout",
     "output_type": "stream",
     "text": [
      "均值： 7.20\n",
      "均值在置信水平0.95下的置信区间为： (7.171337577138237, 7.2214184794700635)\n"
     ]
    }
   ],
   "source": [
    "import mytools\n",
    "mytools.单变量参数估计(豆瓣电影数据,confidence_level)"
   ]
  }
 ],
 "metadata": {
  "kernelspec": {
   "display_name": "Python 3.8.10 64-bit",
   "language": "python",
   "name": "python3"
  },
  "language_info": {
   "codemirror_mode": {
    "name": "ipython",
    "version": 3
   },
   "file_extension": ".py",
   "mimetype": "text/x-python",
   "name": "python",
   "nbconvert_exporter": "python",
   "pygments_lexer": "ipython3",
   "version": "3.8.10"
  },
  "orig_nbformat": 4,
  "vscode": {
   "interpreter": {
    "hash": "67ce17e1b6374497c06444cecdf32d7b7e19b45a9a3e89d21f68883cc09eee71"
   }
  }
 },
 "nbformat": 4,
 "nbformat_minor": 2
}

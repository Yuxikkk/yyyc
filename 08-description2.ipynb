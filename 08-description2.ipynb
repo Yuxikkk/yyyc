{
 "cells": [
  {
   "cell_type": "code",
   "execution_count": 23,
   "metadata": {},
   "outputs": [],
   "source": [
    "import pandas as pd\n",
    "from pyreadstat import pyreadstat\n",
    "df, metadata = pyreadstat.read_sav(r'identity.sav',apply_value_formats=True,formats_as_ordered_category=True)\n"
   ]
  },
  {
   "cell_type": "code",
   "execution_count": 24,
   "metadata": {},
   "outputs": [],
   "source": [
    "result = df['会打多少分'].value_counts(sort=False)\n",
    "描述统计表=pd.DataFrame(result)\n",
    "描述统计表['比例']=描述统计表['count']/描述统计表['count'].sum()\n",
    "描述统计表['累计比例']=描述统计表['比例'].cumsum()"
   ]
  },
  {
   "cell_type": "code",
   "execution_count": 35,
   "metadata": {},
   "outputs": [],
   "source": [
    "def 有序变量描述统计函数(表名,变量名):\n",
    "    result = 表名['变量名'].value_counts(sort=False)\n",
    "    描述统计表=pd.DataFrame(result)\n",
    "    描述统计表['比例']=描述统计表['count']/描述统计表['count'].sum()\n",
    "    描述统计表['累计比例']=描述统计表['比例'].cumsum()\n",
    "    return 描述统计表"
   ]
  },
  {
   "cell_type": "code",
   "execution_count": 26,
   "metadata": {},
   "outputs": [],
   "source": [
    "df_result = pd.DataFrame(result)\n",
    "sum=df_result['count'].sum()\n",
    "df_result['比例'] = df_result['count']/sum\n",
    "df_result['累计比例']=df_result['比例'].cumsum"
   ]
  },
  {
   "cell_type": "code",
   "execution_count": 27,
   "metadata": {},
   "outputs": [],
   "source": [
    "result = df['会打多少分'].value_counts(sort=False,normalize=True)\n",
    "df_result = pd.DataFrame(result)\n",
    "df_result['累计求和'] = result.values.cumsum()"
   ]
  }
 ],
 "metadata": {
  "kernelspec": {
   "display_name": "Python 3.8.10 64-bit",
   "language": "python",
   "name": "python3"
  },
  "language_info": {
   "codemirror_mode": {
    "name": "ipython",
    "version": 3
   },
   "file_extension": ".py",
   "mimetype": "text/x-python",
   "name": "python",
   "nbconvert_exporter": "python",
   "pygments_lexer": "ipython3",
   "version": "3.8.10"
  },
  "orig_nbformat": 4,
  "vscode": {
   "interpreter": {
    "hash": "67ce17e1b6374497c06444cecdf32d7b7e19b45a9a3e89d21f68883cc09eee71"
   }
  }
 },
 "nbformat": 4,
 "nbformat_minor": 2
}
